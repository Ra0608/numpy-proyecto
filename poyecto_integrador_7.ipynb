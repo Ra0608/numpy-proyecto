{
 "cells": [
  {
   "cell_type": "code",
   "execution_count": 4,
   "metadata": {},
   "outputs": [
    {
     "name": "stdout",
     "output_type": "stream",
     "text": [
      "      age  anaemia  creatinine_phosphokinase  diabetes  ejection_fraction  \\\n",
      "0    75.0        0                       582         0                 20   \n",
      "1    55.0        0                      7861         0                 38   \n",
      "2    65.0        0                       146         0                 20   \n",
      "3    50.0        1                       111         0                 20   \n",
      "4    65.0        1                       160         1                 20   \n",
      "..    ...      ...                       ...       ...                ...   \n",
      "294  62.0        0                        61         1                 38   \n",
      "295  55.0        0                      1820         0                 38   \n",
      "296  45.0        0                      2060         1                 60   \n",
      "297  45.0        0                      2413         0                 38   \n",
      "298  50.0        0                       196         0                 45   \n",
      "\n",
      "     high_blood_pressure  platelets  serum_creatinine  serum_sodium  sex  \\\n",
      "0                      1  265000.00               1.9           130    1   \n",
      "1                      0  263358.03               1.1           136    1   \n",
      "2                      0  162000.00               1.3           129    1   \n",
      "3                      0  210000.00               1.9           137    1   \n",
      "4                      0  327000.00               2.7           116    0   \n",
      "..                   ...        ...               ...           ...  ...   \n",
      "294                    1  155000.00               1.1           143    1   \n",
      "295                    0  270000.00               1.2           139    0   \n",
      "296                    0  742000.00               0.8           138    0   \n",
      "297                    0  140000.00               1.4           140    1   \n",
      "298                    0  395000.00               1.6           136    1   \n",
      "\n",
      "     smoking  time  DEATH_EVENT Categoria_Edad  \n",
      "0          0     4            1   Adulto mayor  \n",
      "1          0     6            1         Adulto  \n",
      "2          1     7            1   Adulto mayor  \n",
      "3          0     7            1         Adulto  \n",
      "4          0     8            1   Adulto mayor  \n",
      "..       ...   ...          ...            ...  \n",
      "294        1   270            0   Adulto mayor  \n",
      "295        0   271            0         Adulto  \n",
      "296        0   278            0         Adulto  \n",
      "297        1   280            0         Adulto  \n",
      "298        1   285            0         Adulto  \n",
      "\n",
      "[299 rows x 14 columns]\n"
     ]
    }
   ],
   "source": [
    "#Una vez tenemos los datos exportados por nuestro script de ETL, podemos proceder a realizar gráficas de análisis. En esta etapa del proyecto usa matplotlib para:\n",
    "\"\"\"\n",
    "Graficar la distribución de edades con un histograma\n",
    "Graficar histogramas agrupado por hombre y mujer:\n",
    "cantidad de anémicos\n",
    "cantidad de diabéticos\n",
    "cantidad de fumadores\n",
    "cantidad de muertos\n",
    "El segundo histograma debe verse así:\n",
    "\"\"\"\n",
    "#imopotamos pandas para hacer uso de su libreria y tambien de matplotlib para graficar \n",
    "import pandas as pd\n",
    "import matplotlib.pyplot as plt \n",
    " # importamos los datos  en un df\n",
    "df =  pd.read_csv(\"resultado.csv\")\n"
   ]
  },
  {
   "cell_type": "code",
   "execution_count": 5,
   "metadata": {},
   "outputs": [
    {
     "ename": "ModuleNotFoundError",
     "evalue": "No module named 'seaborn'",
     "output_type": "error",
     "traceback": [
      "\u001b[1;31m---------------------------------------------------------------------------\u001b[0m",
      "\u001b[1;31mModuleNotFoundError\u001b[0m                       Traceback (most recent call last)",
      "Cell \u001b[1;32mIn[5], line 2\u001b[0m\n\u001b[0;32m      1\u001b[0m \u001b[38;5;28;01mimport\u001b[39;00m \u001b[38;5;21;01mmatplotlib\u001b[39;00m\u001b[38;5;21;01m.\u001b[39;00m\u001b[38;5;21;01mpyplot\u001b[39;00m \u001b[38;5;28;01mas\u001b[39;00m \u001b[38;5;21;01mplt\u001b[39;00m\n\u001b[1;32m----> 2\u001b[0m \u001b[38;5;28;01mimport\u001b[39;00m \u001b[38;5;21;01mseaborn\u001b[39;00m \u001b[38;5;28;01mas\u001b[39;00m \u001b[38;5;21;01msns\u001b[39;00m\n\u001b[0;32m      4\u001b[0m \u001b[38;5;66;03m# Configuración de estilo de seaborn\u001b[39;00m\n\u001b[0;32m      5\u001b[0m sns\u001b[38;5;241m.\u001b[39mset(style\u001b[38;5;241m=\u001b[39m\u001b[38;5;124m\"\u001b[39m\u001b[38;5;124mwhitegrid\u001b[39m\u001b[38;5;124m\"\u001b[39m)\n",
      "\u001b[1;31mModuleNotFoundError\u001b[0m: No module named 'seaborn'"
     ]
    }
   ],
   "source": [
    "import matplotlib.pyplot as plt\n",
    "import seaborn as sns\n",
    "\n",
    "# Configuración de estilo de seaborn\n",
    "sns.set(style=\"whitegrid\")\n",
    "plt.figure(figsize=(15, 10))\n",
    "\n",
    "# Gráfico de la distribución de edades (histograma)\n",
    "plt.subplot(2, 3, 1)\n",
    "sns.histplot(df['age'], kde=True, color='skyblue')\n",
    "plt.title('Distribución de Edades')\n",
    "\n",
    "# Histogramas agrupados por género\n",
    "gender_labels = {0: 'Mujer', 1: 'Hombre'}\n",
    "\n",
    "# Anemia\n",
    "plt.subplot(2, 3, 2)\n",
    "sns.histplot(data=df, x='age', hue='anaemia', multiple='stack', bins=20, palette='muted')\n",
    "plt.title('Anemia por Edad')\n",
    "plt.legend(labels=['No Anémico', 'Anémico'])\n",
    "\n",
    "# Diabetes\n",
    "plt.subplot(2, 3, 3)\n",
    "sns.histplot(data=df, x='age', hue='diabetes', multiple='stack', bins=20, palette='muted')\n",
    "plt.title('Diabetes por Edad')\n",
    "plt.legend(labels=['No Diabético', 'Diabético'])\n",
    "\n",
    "# Fumadores\n",
    "plt.subplot(2, 3, 4)\n",
    "sns.histplot(data=df, x='age', hue='smoking', multiple='stack', bins=20, palette='muted')\n",
    "plt.title('Fumadores por Edad')\n",
    "plt.legend(labels=['No Fumador', 'Fumador'])\n",
    "\n",
    "# Muertos\n",
    "plt.subplot(2, 3, 5)\n",
    "sns.histplot(data=df, x='age', hue='DEATH_EVENT', multiple='stack', bins=20, palette='muted')\n",
    "plt.title('Muertos por Edad')\n",
    "plt.legend(labels=['Vivo', 'Muerto'])\n",
    "\n",
    "# Mostrar los gráficos\n",
    "plt.tight_layout()\n",
    "plt.show()"
   ]
  }
 ],
 "metadata": {
  "kernelspec": {
   "display_name": "Python 3",
   "language": "python",
   "name": "python3"
  },
  "language_info": {
   "codemirror_mode": {
    "name": "ipython",
    "version": 3
   },
   "file_extension": ".py",
   "mimetype": "text/x-python",
   "name": "python",
   "nbconvert_exporter": "python",
   "pygments_lexer": "ipython3",
   "version": "3.11.5"
  }
 },
 "nbformat": 4,
 "nbformat_minor": 2
}
