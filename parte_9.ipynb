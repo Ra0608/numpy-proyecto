{
 "cells": [
  {
   "cell_type": "code",
   "execution_count": null,
   "metadata": {},
   "outputs": [],
   "source": [
    "import pandas as pd\n",
    "import numpy as np\n",
    "from sklearn.manifold import TSNE\n",
    "import plotly.graph_objects as go\n",
    "\n",
    "# Cargar el DataFrame\n",
    "df = pd.read_csv(\"resultado.csv\")\n",
    "\n",
    "# Paso 1: Exportar una matriz con solo los valores de los atributos en formato de numpy array\n",
    "X = df.drop(columns=['DEATH_EVENT', 'Categoria_Edad']).values\n",
    "\n",
    "# Paso 2: Exportar un array unidimensional y solo de la columna objetivo DEATH_EVENT\n",
    "y = df['DEATH_EVENT'].values\n",
    "\n",
    "# Paso 3: Ejecutar el fragmento de código TSNE\n",
    "X_embedded = TSNE(\n",
    "    n_components=3,\n",
    "    learning_rate='auto',\n",
    "    init='random',\n",
    "    perplexity=3\n",
    ").fit_transform(X)\n",
    "\n",
    "# Crear la figura 3D con Plotly\n",
    "fig = go.Figure()\n",
    "\n",
    "# Añadir informacion dispersión 3D\n",
    "fig.add_trace(go.Scatter3d(\n",
    "    x=X_embedded[:, 0],\n",
    "    y=X_embedded[:, 1],\n",
    "    z=X_embedded[:, 2],\n",
    "    mode='markers',\n",
    "    marker=dict(\n",
    "        size=5,\n",
    "        color=y,  # Color asignado según la clase (vivo o muerto)\n",
    "        colorscale='Viridis',\n",
    "        opacity=0.8\n",
    "    )\n",
    "))\n",
    "\n",
    "# diseño del gráfico\n",
    "fig.update_layout(\n",
    "    title='Gráfico de Dispersión 3D de DEATH_EVENT', # nombre de la tabla\n",
    "    scene=dict(\n",
    "        xaxis_title='Dimensión 1', # dimenciones segun el eje\n",
    "        yaxis_title='Dimensión 2',\n",
    "        zaxis_title='Dimensión 3'\n",
    "    )\n",
    ")\n",
    "\n",
    "# Mostrar el gráfico\n",
    "fig.show()\n",
    "\n",
    "\n",
    "\n"
   ]
  }
 ],
 "metadata": {
  "kernelspec": {
   "display_name": "Python 3",
   "language": "python",
   "name": "python3"
  },
  "language_info": {
   "codemirror_mode": {
    "name": "ipython",
    "version": 3
   },
   "file_extension": ".py",
   "mimetype": "text/x-python",
   "name": "python",
   "nbconvert_exporter": "python",
   "pygments_lexer": "ipython3",
   "version": "3.11.5"
  }
 },
 "nbformat": 4,
 "nbformat_minor": 2
}
