{
 "cells": [
  {
   "cell_type": "code",
   "execution_count": 1,
   "metadata": {},
   "outputs": [
    {
     "ename": "ModuleNotFoundError",
     "evalue": "No module named 'sklearn'",
     "output_type": "error",
     "traceback": [
      "\u001b[1;31m---------------------------------------------------------------------------\u001b[0m",
      "\u001b[1;31mModuleNotFoundError\u001b[0m                       Traceback (most recent call last)",
      "Cell \u001b[1;32mIn[1], line 3\u001b[0m\n\u001b[0;32m      1\u001b[0m \u001b[38;5;28;01mimport\u001b[39;00m \u001b[38;5;21;01mpandas\u001b[39;00m \u001b[38;5;28;01mas\u001b[39;00m \u001b[38;5;21;01mpd\u001b[39;00m\n\u001b[0;32m      2\u001b[0m \u001b[38;5;28;01mimport\u001b[39;00m \u001b[38;5;21;01mnumpy\u001b[39;00m \u001b[38;5;28;01mas\u001b[39;00m \u001b[38;5;21;01mnp\u001b[39;00m\n\u001b[1;32m----> 3\u001b[0m \u001b[38;5;28;01mfrom\u001b[39;00m \u001b[38;5;21;01msklearn\u001b[39;00m\u001b[38;5;21;01m.\u001b[39;00m\u001b[38;5;21;01mmanifold\u001b[39;00m \u001b[38;5;28;01mimport\u001b[39;00m TSNE\n\u001b[0;32m      4\u001b[0m \u001b[38;5;28;01mimport\u001b[39;00m \u001b[38;5;21;01mplotly\u001b[39;00m\u001b[38;5;21;01m.\u001b[39;00m\u001b[38;5;21;01mexpress\u001b[39;00m \u001b[38;5;28;01mas\u001b[39;00m \u001b[38;5;21;01mpx\u001b[39;00m\n\u001b[0;32m      6\u001b[0m \u001b[38;5;66;03m# Cargar el DataFrame\u001b[39;00m\n",
      "\u001b[1;31mModuleNotFoundError\u001b[0m: No module named 'sklearn'"
     ]
    }
   ],
   "source": [
    "import pandas as pd\n",
    "import numpy as np\n",
    "from sklearn.manifold import TSNE\n",
    "import plotly.express as px\n",
    "\n",
    "# Cargar el DataFrame\n",
    "df = pd.read_csv(\"resultado.csv\")\n",
    "\n",
    "# Eliminar columnas 'DEATH_EVENT' y 'categoria_edad'\n",
    "columns_to_drop = ['DEATH_EVENT', 'categoria_edad']\n",
    "df = df.drop(columns=columns_to_drop)\n",
    "\n",
    "# Convertir columnas no numéricas a numéricas (si es necesario)\n",
    "df = pd.get_dummies(df)\n",
    "\n",
    "# Obtener los valores y la columna objetivo\n",
    "X = df.values\n",
    "y = df['DEATH_EVENT'].values\n",
    "\n",
    "# Eliminar la columna objetivo\n",
    "X = X[:, :-1]\n",
    "\n",
    "# Ejecutar reducción de dimensionalidad con t-SNE\n",
    "X_embedded = TSNE(n_components=3, learning_rate='auto', init='random', perplexity=3).fit_transform(X)\n",
    "\n",
    "# Crear DataFrame para Plotly\n",
    "df_plotly = pd.DataFrame(data=X_embedded, columns=['Dim1', 'Dim2', 'Dim3'])\n",
    "df_plotly['DEATH_EVENT'] = y\n",
    "\n",
    "# Configurar el gráfico de dispersión 3D\n",
    "fig = px.scatter_3d(df_plotly, x='Dim1', y='Dim2', z='Dim3', color='DEATH_EVENT',\n",
    "                    title='Visualización 3D de Reducción de Dimensionalidad (t-SNE)',\n",
    "                    labels={'DEATH_EVENT': 'Estado (0: Vivo, 1: Muerto)'})\n",
    "\n",
    "# Mostrar el gráfico\n",
    "fig.show()\n"
   ]
  }
 ],
 "metadata": {
  "kernelspec": {
   "display_name": "Python 3",
   "language": "python",
   "name": "python3"
  },
  "language_info": {
   "codemirror_mode": {
    "name": "ipython",
    "version": 3
   },
   "file_extension": ".py",
   "mimetype": "text/x-python",
   "name": "python",
   "nbconvert_exporter": "python",
   "pygments_lexer": "ipython3",
   "version": "3.11.5"
  }
 },
 "nbformat": 4,
 "nbformat_minor": 2
}
