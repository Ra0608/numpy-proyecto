{
 "cells": [
  {
   "cell_type": "code",
   "execution_count": 1,
   "metadata": {},
   "outputs": [
    {
     "ename": "NameError",
     "evalue": "name 'df' is not defined",
     "output_type": "error",
     "traceback": [
      "\u001b[1;31m---------------------------------------------------------------------------\u001b[0m",
      "\u001b[1;31mNameError\u001b[0m                                 Traceback (most recent call last)",
      "Cell \u001b[1;32mIn[1], line 7\u001b[0m\n\u001b[0;32m      2\u001b[0m \u001b[38;5;28;01mimport\u001b[39;00m \u001b[38;5;21;01mpandas\u001b[39;00m \u001b[38;5;28;01mas\u001b[39;00m \u001b[38;5;21;01mpd\u001b[39;00m\n\u001b[0;32m      4\u001b[0m \u001b[38;5;66;03m# Supongo que tienes un DataFrame llamado 'df' con las columnas necesarias\u001b[39;00m\n\u001b[0;32m      5\u001b[0m \n\u001b[0;32m      6\u001b[0m \u001b[38;5;66;03m# Cantidad de anémicos\u001b[39;00m\n\u001b[1;32m----> 7\u001b[0m anemicos \u001b[38;5;241m=\u001b[39m \u001b[43mdf\u001b[49m[\u001b[38;5;124m'\u001b[39m\u001b[38;5;124manaemia\u001b[39m\u001b[38;5;124m'\u001b[39m]\u001b[38;5;241m.\u001b[39mvalue_counts()\n\u001b[0;32m      9\u001b[0m \u001b[38;5;66;03m# Cantidad de diabéticos\u001b[39;00m\n\u001b[0;32m     10\u001b[0m diabeticos \u001b[38;5;241m=\u001b[39m df[\u001b[38;5;124m'\u001b[39m\u001b[38;5;124mdiabetes\u001b[39m\u001b[38;5;124m'\u001b[39m]\u001b[38;5;241m.\u001b[39mvalue_counts()\n",
      "\u001b[1;31mNameError\u001b[0m: name 'df' is not defined"
     ]
    }
   ],
   "source": [
    "import matplotlib.pyplot as plt\n",
    "import pandas as pd\n",
    "\n",
    "# Supongo que tienes un DataFrame llamado 'df' con las columnas necesarias\n",
    " \n",
    "# Cantidad de anémicos\n",
    "anemicos = df['anaemia'].value_counts()\n",
    "\n",
    "# Cantidad de diabéticos\n",
    "diabeticos = df['diabetes'].value_counts()\n",
    "\n",
    "# Cantidad de fumadores\n",
    "fumadores = df['smoking'].value_counts()\n",
    "\n",
    "# Cantidad de muertos\n",
    "muertos = df['DEATH_EVENT'].value_counts()\n",
    "\n",
    "# Configurar subplots\n",
    "fig, axs = plt.subplots(2, 2, figsize=(10, 10))\n",
    "fig.suptitle('Distribuciones')\n",
    "\n",
    "# Gráfica de torta para anémicos\n",
    "axs[0, 0].pie(anemicos, labels=anemicos.index, autopct='%1.1f%%', startangle=90, colors=['lightcoral', 'lightblue'])\n",
    "axs[0, 0].set_title('Anémicos')\n",
    "\n",
    "# Gráfica de torta para diabéticos\n",
    "axs[0, 1].pie(diabeticos, labels=diabeticos.index, autopct='%1.1f%%', startangle=90, colors=['lightcoral', 'lightblue'])\n",
    "axs[0, 1].set_title('Diabéticos')\n",
    "\n",
    "# Gráfica de torta para fumadores\n",
    "axs[1, 0].pie(fumadores, labels=fumadores.index, autopct='%1.1f%%', startangle=90, colors=['lightcoral', 'lightblue'])\n",
    "axs[1, 0].set_title('Fumadores')\n",
    "\n",
    "# Gráfica de torta para muertos\n",
    "axs[1, 1].pie(muertos, labels=muertos.index, autopct='%1.1f%%', startangle=90, colors=['lightcoral', 'lightblue'])\n",
    "axs[1, 1].set_title('Muertos')\n",
    "\n",
    "plt.show()\n",
    "\n"
   ]
  }
 ],
 "metadata": {
  "kernelspec": {
   "display_name": "Python 3",
   "language": "python",
   "name": "python3"
  },
  "language_info": {
   "codemirror_mode": {
    "name": "ipython",
    "version": 3
   },
   "file_extension": ".py",
   "mimetype": "text/x-python",
   "name": "python",
   "nbconvert_exporter": "python",
   "pygments_lexer": "ipython3",
   "version": "3.11.5"
  }
 },
 "nbformat": 4,
 "nbformat_minor": 2
}
